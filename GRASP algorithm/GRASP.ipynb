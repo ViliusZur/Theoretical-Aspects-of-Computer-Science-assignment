{
 "cells": [
  {
   "cell_type": "markdown",
   "metadata": {},
   "source": [
    "# Definition of the problem"
   ]
  },
  {
   "cell_type": "markdown",
   "metadata": {},
   "source": [
    "Given $G$ as a complete weighted graph with $n$ vertices find a cycle of minimal cost:\n",
    "\n",
    "- **Complete**: a graph in which each pair of $graph$ $vertices$ is connected by an edge.\n",
    "- **Weighted**: a graph of which all of its edges has a dedicated number on them indicating the travel cost between edges.\n",
    "- **Minimal cost of the cycle**: the shortest or the cheapest sum of edges to travel through the graph."
   ]
  },
  {
   "cell_type": "markdown",
   "metadata": {},
   "source": [
    "# Code"
   ]
  },
  {
   "cell_type": "markdown",
   "metadata": {},
   "source": [
    "Import libraries"
   ]
  },
  {
   "cell_type": "code",
   "execution_count": 1,
   "metadata": {},
   "outputs": [],
   "source": [
    "import copy # to copy graph and not to reference it\n",
    "from random import randint # to generate random numbers\n",
    "from math import inf as oo # to denote travel distance to the same vert\n",
    "from math import sqrt\n",
    "from math import isinf"
   ]
  },
  {
   "cell_type": "markdown",
   "metadata": {},
   "source": [
    "# Basis"
   ]
  },
  {
   "cell_type": "markdown",
   "metadata": {},
   "source": [
    "The set of vertices will be {0, 1, 2, 3, ..., n-1}"
   ]
  },
  {
   "cell_type": "markdown",
   "metadata": {},
   "source": [
    "Without loss of generality, we can consider $0$ to be the start and the end point of cycles"
   ]
  },
  {
   "cell_type": "code",
   "execution_count": 2,
   "metadata": {},
   "outputs": [],
   "source": [
    "MAX_DISTANCE = 100\n",
    "\n",
    "def random_symetric_graph(n):\n",
    "    ''' Random Symetric matrix of size nxn '''\n",
    "    dist_matrix = [[oo for _ in range(n)] for _ in range(n)]\n",
    "    for i in range(n):\n",
    "        for j in range(i+1,n):\n",
    "            v = randint(1, MAX_DISTANCE)\n",
    "            dist_matrix[i][j] = v\n",
    "            dist_matrix[j][i] = v\n",
    "    return dist_matrix\n",
    "\n",
    "def show(G):\n",
    "    ''' Show adjacency matrix. Useful for debugging. '''\n",
    "    n = len(G)\n",
    "    r = \"    \"\n",
    "    for i in range(n):\n",
    "        r += f'{i:4}'\n",
    "    r += '\\n    -' + '-' *(4*n)+ '\\n'\n",
    "    for i in range(n):\n",
    "        r += f'{i:2} | '\n",
    "        for j in range(n):\n",
    "            r += f'{G[i][j]:4}'\n",
    "        r += '\\n'\n",
    "    print(r)\n",
    "\n",
    "def cost(G, cycle):\n",
    "    '''Calculate the cost of the given cycle '''\n",
    "    c = 0\n",
    "    n = len(G)\n",
    "    for i in range(n):\n",
    "        a = cycle[i]\n",
    "        b = cycle[(i+1)%n]\n",
    "        c += G[a][b]\n",
    "    return c"
   ]
  },
  {
   "cell_type": "markdown",
   "metadata": {},
   "source": [
    "# Example of the graph"
   ]
  },
  {
   "cell_type": "markdown",
   "metadata": {},
   "source": [
    "G = random_symetric_graph(6)\n",
    "show(G)"
   ]
  },
  {
   "cell_type": "markdown",
   "metadata": {},
   "source": [
    "# Solution"
   ]
  },
  {
   "cell_type": "markdown",
   "metadata": {},
   "source": [
    "### GRASP"
   ]
  },
  {
   "cell_type": "markdown",
   "metadata": {},
   "source": [
    "The idea is to:\n",
    "- Consider vertex $0$ as the start and the end point.\n",
    "- Generate a random solution using a randomized greedy search algorithms\n",
    "- Perform a local search on the temp solution\n",
    "- Update the current solution with the new one if it gives a better results"
   ]
  },
  {
   "cell_type": "markdown",
   "metadata": {},
   "source": [
    "**GRASP** is a multi-start or iterative metaheuristic, which utilizes iterations through two phases: construction of at least some randomized solution and a local search. Algorithm starts by constructing a randomized solution, using greedy random search, then it is necessary to apply an optimization to the solution, which in this case will be 2-opt algorithm. The 2-opt will be ran until the local minimum is found. The best solution is kept and presented as a result. (Resende and Ribeiro, 2019)"
   ]
  },
  {
   "cell_type": "markdown",
   "metadata": {},
   "source": [
    "### Formal\n",
    "#### Greedy Random Search"
   ]
  },
  {
   "cell_type": "markdown",
   "metadata": {},
   "source": [
    "1. $H$ $\\gets$ copy of $G$\n",
    "2. $n$ $\\gets$ len of $H$\n",
    "3. $cities$ $\\gets$ $list$ of a $range$ of $n$\n",
    "4. $cycle$ $\\gets$ $empty$ $list$\n",
    "5. $city\\gets 0$\n",
    "6. **while** len of cities is not 0 **do**\n",
    "7. $\\quad$ $city$_$neighbours$$\\gets$ $current$ $node$\n",
    "8. $\\quad$ $random$_$distance$$\\gets$ $distance$ $to$ $random$ $neighbour$\n",
    "9. $\\quad$ **if** all neighbours cost inf **do**\n",
    "10. $\\qquad$ $random$_$distance$ $\\gets$ $0$\n",
    "11. $\\qquad$ $stop$ $while$ $loop$\n",
    "12. $\\quad$ **end if**\n",
    "13. $\\quad$ $random$_$city$$\\gets ramdom$_$distance$\n",
    "14. $\\quad$ $cycle$$\\gets current city$\n",
    "15. $\\quad$ $remove$ $current$ $city$ $from$ $cities$ $list$\n",
    "16. $\\quad$ **for** all **n do**\n",
    "17. $\\qquad$ set current node $dist$ to $inf$\n",
    "18. $\\quad$ **end for**\n",
    "19. $\\quad$ **if** $random\\_city$ $not$ 0 **do**\n",
    "20. $\\qquad$ $city$ $\\gets$ $random\\_city$\n",
    "21. $\\quad$ **end if**\n",
    "22. **end while**\n",
    "23. **return cycle, cost of G**"
   ]
  },
  {
   "cell_type": "markdown",
   "metadata": {},
   "source": [
    "First while does $n$ cycles. Inside while loop we check if all of the neighbours are inf long which gives $n-1$ more computations. After that we set 1 neighbour's distance to be $inf$ long. This algorithm costs:\n",
    "\n",
    "$$O(n\\cdot (n-1) \\cdot 1)=O(n^2)$$"
   ]
  },
  {
   "cell_type": "code",
   "execution_count": 3,
   "metadata": {},
   "outputs": [],
   "source": [
    "def greedy_rand_search(G):\n",
    "    H = copy.deepcopy(G)\n",
    "    n = len(H)\n",
    "    cities = list(range(n))\n",
    "    cycle = []\n",
    "    city = 0\n",
    "    while len(cities)>0:\n",
    "        city_neighbours = H[city]\n",
    "        random_distance = city_neighbours[randint(0, len(city_neighbours) - 1)]\n",
    "        while isinf(random_distance):\n",
    "            random_distance = city_neighbours[randint(0, len(city_neighbours) - 1)]\n",
    "            if all_inf(city_neighbours):\n",
    "                random_distance = oo\n",
    "                break\n",
    "        random_city = city_neighbours.index(random_distance)\n",
    "        cycle.append(city)\n",
    "        cities.remove(city)\n",
    "        for i in range(n):\n",
    "            H[city][i] = oo\n",
    "            H[i][city] = oo\n",
    "        if random_city != 0:\n",
    "            city = random_city\n",
    "    cycle.append(0)\n",
    "    return (cycle, cost(G, cycle))\n",
    "\n",
    "def all_inf(list):\n",
    "    return all(x == list[0] for x in list)"
   ]
  },
  {
   "cell_type": "markdown",
   "metadata": {},
   "source": [
    "The code above illustrates the construction phase. At the each iteration update the solution by a random neighbour from the list. Keep on updating the temp solution until we have found the path to the end node. A randomized greedy construuction procedure is not always able to produce a feasable solution, thus we need to apply the repair proedure to the solution to achieve the feasibility.(Resende and Ribeiro, 2019)"
   ]
  },
  {
   "cell_type": "markdown",
   "metadata": {},
   "source": [
    "### 2 opt algorithm"
   ]
  },
  {
   "cell_type": "code",
   "execution_count": 4,
   "metadata": {},
   "outputs": [],
   "source": [
    "def two_opt(G, cycle):\n",
    "    '''2-opt algorithm for local search'''\n",
    "    size = len(cycle)\n",
    "    improve = 0\n",
    "        \n",
    "    while improve < 100:\n",
    "        '''iterates 100 times until a better cycle is found, then iterates 100 times again'''\n",
    "        best_cost = cost(G, cycle)\n",
    "        \n",
    "        for i in range(1, size-1):\n",
    "            for k in range(i+1, size):\n",
    "                new_cycle = two_opt_swap(cycle, i, k)\n",
    "                new_cost = cost(G, new_cycle)\n",
    "                \n",
    "                if new_cost < best_cost:\n",
    "                    improve = 0\n",
    "                    cycle = new_cycle\n",
    "                    best_cost = new_cost\n",
    "                    \n",
    "        improve += 1\n",
    "    return(cycle, best_cost)"
   ]
  },
  {
   "cell_type": "markdown",
   "metadata": {},
   "source": [
    "### 2 opt swap algorithm"
   ]
  },
  {
   "cell_type": "code",
   "execution_count": 5,
   "metadata": {},
   "outputs": [],
   "source": [
    "def two_opt_swap(cycle, i, k):\n",
    "    '''algorithm that manipulates a given cycle'''\n",
    "    size = len(cycle)\n",
    "    new_cycle = list()\n",
    "    \n",
    "    '''append 0 to i to the new cycle'''\n",
    "    for u in range(0, i):\n",
    "        new_cycle.append(cycle[i])\n",
    "    '''append i to k to the new cycle in reverse order'''\n",
    "    dec = 0\n",
    "    for o in range(i, k+1):\n",
    "        new_cycle.append(cycle[k-dec])\n",
    "        dec += 1\n",
    "    '''append k+1 to end to the new cycle'''\n",
    "    for p in range(k+1, size):\n",
    "        new_cycle.append(cycle[p])\n",
    "    \n",
    "    return new_cycle"
   ]
  },
  {
   "cell_type": "markdown",
   "metadata": {},
   "source": [
    "The **local search** phase usually improves the construction solution. It starts by iterating through the construction solution updating it with a better and more suitable neighbours for the problem to be solved. It terminates when no better solution is found in the neighbourhood."
   ]
  },
  {
   "cell_type": "markdown",
   "metadata": {},
   "source": [
    "### Testing random greedy search"
   ]
  },
  {
   "cell_type": "markdown",
   "metadata": {},
   "source": [
    "G = random_symetric_graph(9)\n",
    "show(G)\n",
    "greedy_cycle, greedy_cost = greedy_rand_search(G)\n",
    "print(\"greedy cycle: \", greedy_cycle)\n",
    "print(\"greedy cost:  \", greedy_cost)"
   ]
  },
  {
   "cell_type": "markdown",
   "metadata": {},
   "source": [
    "### Testing 2-opt algorithm"
   ]
  },
  {
   "cell_type": "markdown",
   "metadata": {},
   "source": [
    "best_cycle, best_cost = two_opt(G, greedy_cycle)\n",
    "print(\"best cycle: \", best_cycle)\n",
    "print(\"best cost:  \", best_cost)"
   ]
  },
  {
   "cell_type": "markdown",
   "metadata": {},
   "source": [
    "## GRASP algorithm"
   ]
  },
  {
   "cell_type": "code",
   "execution_count": 6,
   "metadata": {},
   "outputs": [],
   "source": [
    "def GRASP(G):\n",
    "    \n",
    "    grasp_cycle = list()\n",
    "    grasp_cost = oo\n",
    "    iteration = 0\n",
    "\n",
    "    while iteration < 100:\n",
    "\n",
    "        greedy_cycle, greedy_cost = greedy_rand_search(G)\n",
    "        best_cycle, best_cost = two_opt(G, greedy_cycle)\n",
    "\n",
    "        if best_cost < grasp_cost:\n",
    "            grasp_cycle = best_cycle\n",
    "            grasp_cost = best_cost\n",
    "            \n",
    "        iteration += 1\n",
    "        \n",
    "    return (grasp_cycle, grasp_cost)"
   ]
  },
  {
   "cell_type": "markdown",
   "metadata": {},
   "source": [
    "Lastly, the **GRASP** algorithm needs few more parameters to be set in order to start. The stopping criterion is described by the number of iterations. **Iteration** variable is defined in the code above, and is set to the number found through the trial of error which gave the best results. Although by increasing the iterations from this point most likely will not give new and better resuts, the quality of incumbent (the best current solution) may only improve. (Resende and Ribeiro, 2019)"
   ]
  },
  {
   "cell_type": "code",
   "execution_count": 7,
   "metadata": {},
   "outputs": [
    {
     "name": "stdout",
     "output_type": "stream",
     "text": [
      "       0   1   2   3   4   5   6   7   8\n",
      "    -------------------------------------\n",
      " 0 |  inf  38  65  72  50  17  11   6   2\n",
      " 1 |   38 inf  13  42  61  63   9  16   7\n",
      " 2 |   65  13 inf  91  67  76  28  27  67\n",
      " 3 |   72  42  91 inf  81  68  27  85  94\n",
      " 4 |   50  61  67  81 inf  56  14  42  91\n",
      " 5 |   17  63  76  68  56 inf  12  54  69\n",
      " 6 |   11   9  28  27  14  12 inf  40  94\n",
      " 7 |    6  16  27  85  42  54  40 inf  73\n",
      " 8 |    2   7  67  94  91  69  94  73 inf\n",
      "\n",
      "Cycle:  [0, 8, 0, 6, 5, 3, 2, 1, 7, 4]\n",
      "Cost:   221\n"
     ]
    }
   ],
   "source": [
    "G = random_symetric_graph(9)\n",
    "show(G)\n",
    "grasp_cycle, grasp_cost = GRASP(G)\n",
    "print(\"Cycle: \", grasp_cycle)\n",
    "print(\"Cost:  \", grasp_cost)"
   ]
  },
  {
   "cell_type": "markdown",
   "metadata": {},
   "source": [
    "# References"
   ]
  },
  {
   "cell_type": "markdown",
   "metadata": {},
   "source": [
    "* Weisstein, E.W. (n.d.).\n",
    "**Complete Graph. [online] mathworld.wolfram.com.** \n",
    "Available at: https://mathworld.wolfram.com/CompleteGraph.html [Accessed 18 Mar. 2020].\n",
    "\n",
    "* 2-Opt Traveling Salesman Java | Technical-Recipes.Com (2017) \n",
    "available from <https://www.technical-recipes.com/2017/applying-the-2-opt-algorithm-to-traveling-salesman-problems-in-java/> [18 March 2020]\n",
    "\n",
    "* Resende, M. and Ribeiro, C. (n.d.). Greedy Randomized Adaptive Search Procedures: Advances and Extensions. [online] Available at: http://www.dcc.ic.uff.br/~celso/artigos/resende-ribeiro-GRASP-HMH3.pdf [Accessed 26 Mar. 2020]."
   ]
  }
 ],
 "metadata": {
  "kernelspec": {
   "display_name": "Python 3",
   "language": "python",
   "name": "python3"
  },
  "language_info": {
   "codemirror_mode": {
    "name": "ipython",
    "version": 3
   },
   "file_extension": ".py",
   "mimetype": "text/x-python",
   "name": "python",
   "nbconvert_exporter": "python",
   "pygments_lexer": "ipython3",
   "version": "3.7.4"
  }
 },
 "nbformat": 4,
 "nbformat_minor": 2
}
